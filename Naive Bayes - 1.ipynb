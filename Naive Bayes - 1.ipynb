{
 "cells": [
  {
   "cell_type": "markdown",
   "id": "86d0b02d",
   "metadata": {},
   "source": [
    "<h3>Name: Manpreet Singh\n",
    "<h3>UID: 20BCS6444\n",
    "    \n",
    "<h2>AIM: Model to predict Spam or not emails"
   ]
  },
  {
   "cell_type": "code",
   "execution_count": 1,
   "id": "5aeb5356",
   "metadata": {},
   "outputs": [],
   "source": [
    "import pandas as pd\n",
    "from sklearn.feature_extraction.text import CountVectorizer\n",
    "from sklearn.naive_bayes import MultinomialNB\n",
    "from sklearn.preprocessing import LabelEncoder\n",
    "from sklearn.model_selection import train_test_split\n",
    "from sklearn.metrics import accuracy_score, confusion_matrix"
   ]
  },
  {
   "cell_type": "markdown",
   "id": "de2ea205",
   "metadata": {},
   "source": [
    "<h3> Loading the Sapm_ham_dataset </h3>"
   ]
  },
  {
   "cell_type": "code",
   "execution_count": 2,
   "id": "8428b12f",
   "metadata": {},
   "outputs": [
    {
     "data": {
      "text/html": [
       "<div>\n",
       "<style scoped>\n",
       "    .dataframe tbody tr th:only-of-type {\n",
       "        vertical-align: middle;\n",
       "    }\n",
       "\n",
       "    .dataframe tbody tr th {\n",
       "        vertical-align: top;\n",
       "    }\n",
       "\n",
       "    .dataframe thead th {\n",
       "        text-align: right;\n",
       "    }\n",
       "</style>\n",
       "<table border=\"1\" class=\"dataframe\">\n",
       "  <thead>\n",
       "    <tr style=\"text-align: right;\">\n",
       "      <th></th>\n",
       "      <th>Unnamed: 0</th>\n",
       "      <th>label</th>\n",
       "      <th>text</th>\n",
       "      <th>label_num</th>\n",
       "    </tr>\n",
       "  </thead>\n",
       "  <tbody>\n",
       "    <tr>\n",
       "      <th>0</th>\n",
       "      <td>605</td>\n",
       "      <td>ham</td>\n",
       "      <td>Subject: enron methanol ; meter # : 988291\\r\\n...</td>\n",
       "      <td>0</td>\n",
       "    </tr>\n",
       "    <tr>\n",
       "      <th>1</th>\n",
       "      <td>2349</td>\n",
       "      <td>ham</td>\n",
       "      <td>Subject: hpl nom for january 9 , 2001\\r\\n( see...</td>\n",
       "      <td>0</td>\n",
       "    </tr>\n",
       "    <tr>\n",
       "      <th>2</th>\n",
       "      <td>3624</td>\n",
       "      <td>ham</td>\n",
       "      <td>Subject: neon retreat\\r\\nho ho ho , we ' re ar...</td>\n",
       "      <td>0</td>\n",
       "    </tr>\n",
       "    <tr>\n",
       "      <th>3</th>\n",
       "      <td>4685</td>\n",
       "      <td>spam</td>\n",
       "      <td>Subject: photoshop , windows , office . cheap ...</td>\n",
       "      <td>1</td>\n",
       "    </tr>\n",
       "    <tr>\n",
       "      <th>4</th>\n",
       "      <td>2030</td>\n",
       "      <td>ham</td>\n",
       "      <td>Subject: re : indian springs\\r\\nthis deal is t...</td>\n",
       "      <td>0</td>\n",
       "    </tr>\n",
       "    <tr>\n",
       "      <th>5</th>\n",
       "      <td>2949</td>\n",
       "      <td>ham</td>\n",
       "      <td>Subject: ehronline web address change\\r\\nthis ...</td>\n",
       "      <td>0</td>\n",
       "    </tr>\n",
       "    <tr>\n",
       "      <th>6</th>\n",
       "      <td>2793</td>\n",
       "      <td>ham</td>\n",
       "      <td>Subject: spring savings certificate - take 30 ...</td>\n",
       "      <td>0</td>\n",
       "    </tr>\n",
       "    <tr>\n",
       "      <th>7</th>\n",
       "      <td>4185</td>\n",
       "      <td>spam</td>\n",
       "      <td>Subject: looking for medication ? we ` re the ...</td>\n",
       "      <td>1</td>\n",
       "    </tr>\n",
       "    <tr>\n",
       "      <th>8</th>\n",
       "      <td>2641</td>\n",
       "      <td>ham</td>\n",
       "      <td>Subject: noms / actual flow for 2 / 26\\r\\nwe a...</td>\n",
       "      <td>0</td>\n",
       "    </tr>\n",
       "    <tr>\n",
       "      <th>9</th>\n",
       "      <td>1870</td>\n",
       "      <td>ham</td>\n",
       "      <td>Subject: nominations for oct . 21 - 23 , 2000\\...</td>\n",
       "      <td>0</td>\n",
       "    </tr>\n",
       "    <tr>\n",
       "      <th>10</th>\n",
       "      <td>4922</td>\n",
       "      <td>spam</td>\n",
       "      <td>Subject: vocable % rnd - word asceticism\\r\\nvc...</td>\n",
       "      <td>1</td>\n",
       "    </tr>\n",
       "    <tr>\n",
       "      <th>11</th>\n",
       "      <td>3799</td>\n",
       "      <td>spam</td>\n",
       "      <td>Subject: report 01405 !\\r\\nwffur attion brom e...</td>\n",
       "      <td>1</td>\n",
       "    </tr>\n",
       "    <tr>\n",
       "      <th>12</th>\n",
       "      <td>1488</td>\n",
       "      <td>ham</td>\n",
       "      <td>Subject: enron / hpl actuals for august 28 , 2...</td>\n",
       "      <td>0</td>\n",
       "    </tr>\n",
       "    <tr>\n",
       "      <th>13</th>\n",
       "      <td>3948</td>\n",
       "      <td>spam</td>\n",
       "      <td>Subject: vic . odin n ^ ow\\r\\nberne hotbox car...</td>\n",
       "      <td>1</td>\n",
       "    </tr>\n",
       "    <tr>\n",
       "      <th>14</th>\n",
       "      <td>3418</td>\n",
       "      <td>ham</td>\n",
       "      <td>Subject: tenaska iv july\\r\\ndarren :\\r\\nplease...</td>\n",
       "      <td>0</td>\n",
       "    </tr>\n",
       "    <tr>\n",
       "      <th>15</th>\n",
       "      <td>4791</td>\n",
       "      <td>spam</td>\n",
       "      <td>Subject: underpriced issue with high return on...</td>\n",
       "      <td>1</td>\n",
       "    </tr>\n",
       "    <tr>\n",
       "      <th>16</th>\n",
       "      <td>2643</td>\n",
       "      <td>ham</td>\n",
       "      <td>Subject: re : first delivery - wheeler operati...</td>\n",
       "      <td>0</td>\n",
       "    </tr>\n",
       "    <tr>\n",
       "      <th>17</th>\n",
       "      <td>3137</td>\n",
       "      <td>ham</td>\n",
       "      <td>Subject: swift - may 2001 vols\\r\\nsean ,\\r\\nfy...</td>\n",
       "      <td>0</td>\n",
       "    </tr>\n",
       "    <tr>\n",
       "      <th>18</th>\n",
       "      <td>1629</td>\n",
       "      <td>ham</td>\n",
       "      <td>Subject: meter variances - ua 4 clean - up\\r\\n...</td>\n",
       "      <td>0</td>\n",
       "    </tr>\n",
       "    <tr>\n",
       "      <th>19</th>\n",
       "      <td>1858</td>\n",
       "      <td>ham</td>\n",
       "      <td>Subject: additional recruiting\\r\\ni ' m happy ...</td>\n",
       "      <td>0</td>\n",
       "    </tr>\n",
       "  </tbody>\n",
       "</table>\n",
       "</div>"
      ],
      "text/plain": [
       "    Unnamed: 0 label                                               text  \\\n",
       "0          605   ham  Subject: enron methanol ; meter # : 988291\\r\\n...   \n",
       "1         2349   ham  Subject: hpl nom for january 9 , 2001\\r\\n( see...   \n",
       "2         3624   ham  Subject: neon retreat\\r\\nho ho ho , we ' re ar...   \n",
       "3         4685  spam  Subject: photoshop , windows , office . cheap ...   \n",
       "4         2030   ham  Subject: re : indian springs\\r\\nthis deal is t...   \n",
       "5         2949   ham  Subject: ehronline web address change\\r\\nthis ...   \n",
       "6         2793   ham  Subject: spring savings certificate - take 30 ...   \n",
       "7         4185  spam  Subject: looking for medication ? we ` re the ...   \n",
       "8         2641   ham  Subject: noms / actual flow for 2 / 26\\r\\nwe a...   \n",
       "9         1870   ham  Subject: nominations for oct . 21 - 23 , 2000\\...   \n",
       "10        4922  spam  Subject: vocable % rnd - word asceticism\\r\\nvc...   \n",
       "11        3799  spam  Subject: report 01405 !\\r\\nwffur attion brom e...   \n",
       "12        1488   ham  Subject: enron / hpl actuals for august 28 , 2...   \n",
       "13        3948  spam  Subject: vic . odin n ^ ow\\r\\nberne hotbox car...   \n",
       "14        3418   ham  Subject: tenaska iv july\\r\\ndarren :\\r\\nplease...   \n",
       "15        4791  spam  Subject: underpriced issue with high return on...   \n",
       "16        2643   ham  Subject: re : first delivery - wheeler operati...   \n",
       "17        3137   ham  Subject: swift - may 2001 vols\\r\\nsean ,\\r\\nfy...   \n",
       "18        1629   ham  Subject: meter variances - ua 4 clean - up\\r\\n...   \n",
       "19        1858   ham  Subject: additional recruiting\\r\\ni ' m happy ...   \n",
       "\n",
       "    label_num  \n",
       "0           0  \n",
       "1           0  \n",
       "2           0  \n",
       "3           1  \n",
       "4           0  \n",
       "5           0  \n",
       "6           0  \n",
       "7           1  \n",
       "8           0  \n",
       "9           0  \n",
       "10          1  \n",
       "11          1  \n",
       "12          0  \n",
       "13          1  \n",
       "14          0  \n",
       "15          1  \n",
       "16          0  \n",
       "17          0  \n",
       "18          0  \n",
       "19          0  "
      ]
     },
     "execution_count": 2,
     "metadata": {},
     "output_type": "execute_result"
    }
   ],
   "source": [
    "df = pd.read_csv(\"D:\\PYTHON\\Python For Machine Learning\\Data\\\\spam_ham_dataset.csv\")\n",
    "df.head(20)"
   ]
  },
  {
   "cell_type": "markdown",
   "id": "ce860d56",
   "metadata": {},
   "source": [
    "<h3> Dropping the 'Unnamed: 0' column"
   ]
  },
  {
   "cell_type": "code",
   "execution_count": 3,
   "id": "bd700026",
   "metadata": {},
   "outputs": [],
   "source": [
    "df.drop('Unnamed: 0', axis=1, inplace=True)"
   ]
  },
  {
   "cell_type": "code",
   "execution_count": 4,
   "id": "4b5888e1",
   "metadata": {},
   "outputs": [],
   "source": [
    "df.columns=['Label','Text','class']"
   ]
  },
  {
   "cell_type": "markdown",
   "id": "7ab0e8aa",
   "metadata": {},
   "source": [
    "<h3> Checking for null values in dataset if present"
   ]
  },
  {
   "cell_type": "code",
   "execution_count": 5,
   "id": "93b583f6",
   "metadata": {},
   "outputs": [
    {
     "data": {
      "text/plain": [
       "Label    0\n",
       "Text     0\n",
       "class    0\n",
       "dtype: int64"
      ]
     },
     "execution_count": 5,
     "metadata": {},
     "output_type": "execute_result"
    }
   ],
   "source": [
    "df.isnull().sum()"
   ]
  },
  {
   "cell_type": "code",
   "execution_count": 6,
   "id": "4668cc35",
   "metadata": {},
   "outputs": [
    {
     "data": {
      "text/html": [
       "<div>\n",
       "<style scoped>\n",
       "    .dataframe tbody tr th:only-of-type {\n",
       "        vertical-align: middle;\n",
       "    }\n",
       "\n",
       "    .dataframe tbody tr th {\n",
       "        vertical-align: top;\n",
       "    }\n",
       "\n",
       "    .dataframe thead th {\n",
       "        text-align: right;\n",
       "    }\n",
       "</style>\n",
       "<table border=\"1\" class=\"dataframe\">\n",
       "  <thead>\n",
       "    <tr style=\"text-align: right;\">\n",
       "      <th></th>\n",
       "      <th>Label</th>\n",
       "      <th>Text</th>\n",
       "      <th>class</th>\n",
       "    </tr>\n",
       "  </thead>\n",
       "  <tbody>\n",
       "    <tr>\n",
       "      <th>0</th>\n",
       "      <td>ham</td>\n",
       "      <td>Subject: enron methanol ; meter # : 988291\\r\\n...</td>\n",
       "      <td>0</td>\n",
       "    </tr>\n",
       "    <tr>\n",
       "      <th>1</th>\n",
       "      <td>ham</td>\n",
       "      <td>Subject: hpl nom for january 9 , 2001\\r\\n( see...</td>\n",
       "      <td>0</td>\n",
       "    </tr>\n",
       "    <tr>\n",
       "      <th>2</th>\n",
       "      <td>ham</td>\n",
       "      <td>Subject: neon retreat\\r\\nho ho ho , we ' re ar...</td>\n",
       "      <td>0</td>\n",
       "    </tr>\n",
       "    <tr>\n",
       "      <th>3</th>\n",
       "      <td>spam</td>\n",
       "      <td>Subject: photoshop , windows , office . cheap ...</td>\n",
       "      <td>1</td>\n",
       "    </tr>\n",
       "    <tr>\n",
       "      <th>4</th>\n",
       "      <td>ham</td>\n",
       "      <td>Subject: re : indian springs\\r\\nthis deal is t...</td>\n",
       "      <td>0</td>\n",
       "    </tr>\n",
       "  </tbody>\n",
       "</table>\n",
       "</div>"
      ],
      "text/plain": [
       "  Label                                               Text  class\n",
       "0   ham  Subject: enron methanol ; meter # : 988291\\r\\n...      0\n",
       "1   ham  Subject: hpl nom for january 9 , 2001\\r\\n( see...      0\n",
       "2   ham  Subject: neon retreat\\r\\nho ho ho , we ' re ar...      0\n",
       "3  spam  Subject: photoshop , windows , office . cheap ...      1\n",
       "4   ham  Subject: re : indian springs\\r\\nthis deal is t...      0"
      ]
     },
     "execution_count": 6,
     "metadata": {},
     "output_type": "execute_result"
    }
   ],
   "source": [
    "df.head()"
   ]
  },
  {
   "cell_type": "markdown",
   "id": "deb01e25",
   "metadata": {},
   "source": [
    "<h3> Our dataset has 5171 rows and 3 Columns"
   ]
  },
  {
   "cell_type": "code",
   "execution_count": 7,
   "id": "f8c1d3fd",
   "metadata": {},
   "outputs": [
    {
     "data": {
      "text/plain": [
       "(5171, 3)"
      ]
     },
     "execution_count": 7,
     "metadata": {},
     "output_type": "execute_result"
    }
   ],
   "source": [
    "df.shape"
   ]
  },
  {
   "cell_type": "markdown",
   "id": "800218e2",
   "metadata": {},
   "source": [
    "<h3> Splitting the dataset into X and Y variables where X contains the input data and Y contains the Target data"
   ]
  },
  {
   "cell_type": "code",
   "execution_count": 8,
   "id": "568c2256",
   "metadata": {},
   "outputs": [],
   "source": [
    "x, y = df.Text, df.Label"
   ]
  },
  {
   "cell_type": "markdown",
   "id": "de42721c",
   "metadata": {},
   "source": [
    "<h3> Splitting the data into Training and Testing set"
   ]
  },
  {
   "cell_type": "code",
   "execution_count": 9,
   "id": "cf46f74a",
   "metadata": {},
   "outputs": [],
   "source": [
    "xtrain, xtest, ytrain, ytest = train_test_split(x,y, test_size=.2)"
   ]
  },
  {
   "cell_type": "markdown",
   "id": "08867bb3",
   "metadata": {},
   "source": [
    "<h3> Converts a collection of Text documents to a matrix of token counts"
   ]
  },
  {
   "cell_type": "code",
   "execution_count": 10,
   "id": "91ee7c30",
   "metadata": {},
   "outputs": [],
   "source": [
    "vectorizer = CountVectorizer()"
   ]
  },
  {
   "cell_type": "code",
   "execution_count": 11,
   "id": "55b06a17",
   "metadata": {},
   "outputs": [],
   "source": [
    "count = vectorizer.fit_transform(xtrain.values)"
   ]
  },
  {
   "cell_type": "code",
   "execution_count": 12,
   "id": "60d167fe",
   "metadata": {},
   "outputs": [
    {
     "data": {
      "text/plain": [
       "<4136x44555 sparse matrix of type '<class 'numpy.int64'>'\n",
       "\twith 363142 stored elements in Compressed Sparse Row format>"
      ]
     },
     "execution_count": 12,
     "metadata": {},
     "output_type": "execute_result"
    }
   ],
   "source": [
    "count"
   ]
  },
  {
   "cell_type": "markdown",
   "id": "a1292d91",
   "metadata": {},
   "source": [
    "<h3>Fitting Naive Bayes to the Training set\n"
   ]
  },
  {
   "cell_type": "code",
   "execution_count": 13,
   "id": "8b2b0da0",
   "metadata": {},
   "outputs": [],
   "source": [
    "clf = MultinomialNB()"
   ]
  },
  {
   "cell_type": "code",
   "execution_count": 14,
   "id": "0ce3865c",
   "metadata": {},
   "outputs": [],
   "source": [
    "targets = ytrain.values"
   ]
  },
  {
   "cell_type": "code",
   "execution_count": 15,
   "id": "7cb112f9",
   "metadata": {},
   "outputs": [
    {
     "data": {
      "text/plain": [
       "MultinomialNB()"
      ]
     },
     "execution_count": 15,
     "metadata": {},
     "output_type": "execute_result"
    }
   ],
   "source": [
    "clf.fit(count, targets)"
   ]
  },
  {
   "cell_type": "markdown",
   "id": "c55a4692",
   "metadata": {},
   "source": [
    "<h3> Predicting the type of mails using xtest"
   ]
  },
  {
   "cell_type": "code",
   "execution_count": 16,
   "id": "2789909d",
   "metadata": {},
   "outputs": [],
   "source": [
    "y_pred = clf.predict(vectorizer.transform(xtest))"
   ]
  },
  {
   "cell_type": "code",
   "execution_count": 17,
   "id": "b584d27d",
   "metadata": {},
   "outputs": [
    {
     "data": {
      "text/plain": [
       "array(['ham', 'spam', 'spam', ..., 'ham', 'ham', 'ham'], dtype='<U4')"
      ]
     },
     "execution_count": 17,
     "metadata": {},
     "output_type": "execute_result"
    }
   ],
   "source": [
    "y_pred"
   ]
  },
  {
   "cell_type": "markdown",
   "id": "ac209691",
   "metadata": {},
   "source": [
    "<h3> Importing confusion matrix to get an overview of the prediction done by our Naive Bayes Model"
   ]
  },
  {
   "cell_type": "code",
   "execution_count": 18,
   "id": "62bb7359",
   "metadata": {},
   "outputs": [],
   "source": [
    "from sklearn.metrics import confusion_matrix\n",
    "cm = confusion_matrix(ytest, y_pred)"
   ]
  },
  {
   "cell_type": "code",
   "execution_count": 24,
   "id": "24bec30c",
   "metadata": {},
   "outputs": [
    {
     "data": {
      "text/plain": [
       "<AxesSubplot:>"
      ]
     },
     "execution_count": 24,
     "metadata": {},
     "output_type": "execute_result"
    },
    {
     "data": {
      "image/png": "[encoded data removed]",
      "text/plain": [
       "<Figure size 432x288 with 2 Axes>"
      ]
     },
     "metadata": {
      "needs_background": "light"
     },
     "output_type": "display_data"
    }
   ],
   "source": [
    "import seaborn as sns\n",
    "sns.heatmap(cm, linewidth=0.5, cmap='YlGnBu', annot=True, xticklabels=['Not Spam', 'Spam'], yticklabels=['Not Spam', 'Spam'], fmt=\"n\")"
   ]
  },
  {
   "cell_type": "markdown",
   "id": "f5ac45a7",
   "metadata": {},
   "source": [
    "<h3>Accuracy of the model using score method"
   ]
  },
  {
   "cell_type": "code",
   "execution_count": 26,
   "id": "377a693e",
   "metadata": {},
   "outputs": [
    {
     "data": {
      "text/plain": [
       "98.71856866537718"
      ]
     },
     "execution_count": 26,
     "metadata": {},
     "output_type": "execute_result"
    }
   ],
   "source": [
    "(clf.score(count, targets))*100"
   ]
  }
 ],
 "metadata": {
  "kernelspec": {
   "display_name": "Python 3 (ipykernel)",
   "language": "python",
   "name": "python3"
  },
  "language_info": {
   "codemirror_mode": {
    "name": "ipython",
    "version": 3
   },
   "file_extension": ".py",
   "mimetype": "text/x-python",
   "name": "python",
   "nbconvert_exporter": "python",
   "pygments_lexer": "ipython3",
   "version": "3.8.12"
  }
 },
 "nbformat": 4,
 "nbformat_minor": 5
}
